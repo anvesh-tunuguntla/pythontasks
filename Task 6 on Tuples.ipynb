{
 "cells": [
  {
   "cell_type": "markdown",
   "metadata": {},
   "source": [
    "# Add and remove the elements from a tuple"
   ]
  },
  {
   "cell_type": "code",
   "execution_count": 18,
   "metadata": {},
   "outputs": [
    {
     "data": {
      "text/plain": [
       "('python', 'is', 'high', 'level', 'programming', 'language')"
      ]
     },
     "execution_count": 18,
     "metadata": {},
     "output_type": "execute_result"
    }
   ],
   "source": [
    "# add an element into tuple\n",
    "\n",
    "tup1 = (\"python\",\"is\",\"high\",\"level\",\"language\")\n",
    "\n",
    "# convert into list\n",
    "list1 = list(tup1)\n",
    "#list1\n",
    "\n",
    "# add element to the list \n",
    "list1.insert(4,\"programming\")\n",
    "#list1\n",
    "\n",
    "# Convert into tuple again\n",
    "tup1 = tuple(list1)\n",
    "tup1"
   ]
  },
  {
   "cell_type": "code",
   "execution_count": 21,
   "metadata": {},
   "outputs": [
    {
     "data": {
      "text/plain": [
       "('python', 'is', 'high', 'level', 'language')"
      ]
     },
     "execution_count": 21,
     "metadata": {},
     "output_type": "execute_result"
    }
   ],
   "source": [
    "# remove element from the tuple\n",
    "#tup1\n",
    "\n",
    "# convert into list\n",
    "list1 = list(tup1)\n",
    "\n",
    "#remove element from the list\n",
    "list1.remove('programming')\n",
    "#list1\n",
    "\n",
    "# Convert into tuple again\n",
    "tup1 = tuple(list1)\n",
    "tup1"
   ]
  },
  {
   "cell_type": "code",
   "execution_count": null,
   "metadata": {},
   "outputs": [],
   "source": []
  }
 ],
 "metadata": {
  "kernelspec": {
   "display_name": "Python 3",
   "language": "python",
   "name": "python3"
  },
  "language_info": {
   "codemirror_mode": {
    "name": "ipython",
    "version": 3
   },
   "file_extension": ".py",
   "mimetype": "text/x-python",
   "name": "python",
   "nbconvert_exporter": "python",
   "pygments_lexer": "ipython3",
   "version": "3.7.6"
  }
 },
 "nbformat": 4,
 "nbformat_minor": 4
}
