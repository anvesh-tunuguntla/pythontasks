{
 "cells": [
  {
   "cell_type": "markdown",
   "metadata": {},
   "source": [
    "# Task 9"
   ]
  },
  {
   "cell_type": "markdown",
   "metadata": {},
   "source": [
    "- Ask 2 numbers from users and store it in num1 and num2\n",
    "- Ask user to press 1 for addition,2 for subtraction,3 for multiplication and 4 for division\n",
    "- based on number given by user do the math operation"
   ]
  },
  {
   "cell_type": "code",
   "execution_count": 14,
   "metadata": {},
   "outputs": [
    {
     "name": "stdout",
     "output_type": "stream",
     "text": [
      "Enter number 3\n",
      "Enter another number 4\n",
      "press 1 for addition,2 for subtraction,3 for multiplication and 4 for division 3\n",
      "The multiplication of 3 and 4 is 12 \n"
     ]
    }
   ],
   "source": [
    "num1 = int(input(\"Enter number \"))\n",
    "num2 = int(input(\"Enter another number \"))\n",
    "\n",
    "operation_number = input(\"press 1 for addition,2 for subtraction,3 for multiplication and 4 for division \")\n",
    "if operation_number == '1':\n",
    "    num3 = num1 + num2\n",
    "    print(\"The addition of {} and {} is {} \".format(num1,num2,num3))\n",
    "elif operation_number == '2':\n",
    "    num3 = num1 - num2\n",
    "    print(\"The subtraction of {} and {} is {} \".format(num1,num2,num3))\n",
    "elif operation_number == '3':\n",
    "    num3 = num1 * num2\n",
    "    print(\"The multiplication of {} and {} is {} \".format(num1,num2,num3))\n",
    "elif operation_number == '4':\n",
    "    num3 = num1 / num2\n",
    "    print(\"The division of {} and {} is {} \".format(num1,num2,num3))\n",
    "else:\n",
    "    print(\"invalid input given\")"
   ]
  },
  {
   "cell_type": "code",
   "execution_count": null,
   "metadata": {},
   "outputs": [],
   "source": []
  },
  {
   "cell_type": "code",
   "execution_count": null,
   "metadata": {},
   "outputs": [],
   "source": []
  }
 ],
 "metadata": {
  "kernelspec": {
   "display_name": "Python 3",
   "language": "python",
   "name": "python3"
  },
  "language_info": {
   "codemirror_mode": {
    "name": "ipython",
    "version": 3
   },
   "file_extension": ".py",
   "mimetype": "text/x-python",
   "name": "python",
   "nbconvert_exporter": "python",
   "pygments_lexer": "ipython3",
   "version": "3.7.6"
  }
 },
 "nbformat": 4,
 "nbformat_minor": 4
}
