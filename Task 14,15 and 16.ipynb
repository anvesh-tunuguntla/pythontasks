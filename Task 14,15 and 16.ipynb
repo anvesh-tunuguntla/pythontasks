{
 "cells": [
  {
   "cell_type": "code",
   "execution_count": null,
   "metadata": {},
   "outputs": [],
   "source": [
    "# converting string to list - task 16"
   ]
  },
  {
   "cell_type": "code",
   "execution_count": 10,
   "metadata": {},
   "outputs": [
    {
     "name": "stdout",
     "output_type": "stream",
     "text": [
      "['welcome', 'to', 'python']\n"
     ]
    }
   ],
   "source": [
    "str1 = 'welcome to python'\n",
    "list1 = []\n",
    "word = ''\n",
    "for char in str1:\n",
    "    #print(char)\n",
    "    if char == ' ':\n",
    "        list1.append(word)\n",
    "        word = ''\n",
    "    else:\n",
    "        word += char\n",
    "if word:\n",
    "    list1.append(word)\n",
    "print(list1)   "
   ]
  },
  {
   "cell_type": "code",
   "execution_count": null,
   "metadata": {},
   "outputs": [],
   "source": [
    "# calculating word count in a string - for task 14 and 15"
   ]
  },
  {
   "cell_type": "code",
   "execution_count": 12,
   "metadata": {},
   "outputs": [
    {
     "name": "stdout",
     "output_type": "stream",
     "text": [
      "3\n"
     ]
    }
   ],
   "source": [
    "str2 = '   welcome to python   '\n",
    "valid_word = False\n",
    "word_count = 0\n",
    "for char in str2:\n",
    "    if char == ' ':\n",
    "        valid_word = False\n",
    "    else:\n",
    "        if not valid_word:\n",
    "            word_count = word_count+1\n",
    "            valid_word = True\n",
    "print(word_count)"
   ]
  },
  {
   "cell_type": "code",
   "execution_count": null,
   "metadata": {},
   "outputs": [],
   "source": []
  },
  {
   "cell_type": "code",
   "execution_count": null,
   "metadata": {},
   "outputs": [],
   "source": []
  }
 ],
 "metadata": {
  "kernelspec": {
   "display_name": "Python 3",
   "language": "python",
   "name": "python3"
  },
  "language_info": {
   "codemirror_mode": {
    "name": "ipython",
    "version": 3
   },
   "file_extension": ".py",
   "mimetype": "text/x-python",
   "name": "python",
   "nbconvert_exporter": "python",
   "pygments_lexer": "ipython3",
   "version": "3.7.6"
  }
 },
 "nbformat": 4,
 "nbformat_minor": 4
}
