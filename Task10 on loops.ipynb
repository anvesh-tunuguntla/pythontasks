{
 "cells": [
  {
   "cell_type": "code",
   "execution_count": 1,
   "metadata": {},
   "outputs": [
    {
     "name": "stdout",
     "output_type": "stream",
     "text": [
      "10\n",
      "9\n",
      "8\n",
      "7\n",
      "6\n",
      "5\n",
      "4\n",
      "3\n",
      "2\n",
      "1\n"
     ]
    }
   ],
   "source": [
    "# using while loop print numbers from 10 to 1\n",
    "\n",
    "count = 10\n",
    "while(count!=0):\n",
    "    print(count)\n",
    "    count = count - 1"
   ]
  },
  {
   "cell_type": "code",
   "execution_count": 6,
   "metadata": {},
   "outputs": [
    {
     "name": "stdout",
     "output_type": "stream",
     "text": [
      "10\n",
      "20\n",
      "30\n",
      "40\n",
      "50\n"
     ]
    }
   ],
   "source": [
    "# try using for loop to loop over tuples,sets and dictionaries\n",
    "\n",
    "# tuples \n",
    "\n",
    "tuple1 = (10,20,30,40,50)\n",
    "for item in tuple1:\n",
    "    print(item)"
   ]
  },
  {
   "cell_type": "code",
   "execution_count": 8,
   "metadata": {},
   "outputs": [
    {
     "name": "stdout",
     "output_type": "stream",
     "text": [
      "p\n",
      "t\n",
      "e\n",
      "y\n",
      "n\n",
      "l\n",
      "h\n",
      "o\n",
      "w\n",
      "c\n",
      "m\n"
     ]
    }
   ],
   "source": [
    "# sets\n",
    "\n",
    "set1 = {'w','e','l','c','o','m','e','t','o','p','y','t','h','o','n'}\n",
    "for item in set1:\n",
    "    print(item)"
   ]
  },
  {
   "cell_type": "code",
   "execution_count": 9,
   "metadata": {},
   "outputs": [
    {
     "name": "stdout",
     "output_type": "stream",
     "text": [
      "p\n",
      "t\n",
      "e\n",
      "y\n",
      "n\n",
      "l\n",
      "h\n",
      "o\n",
      "w\n",
      "c\n",
      "m\n"
     ]
    }
   ],
   "source": [
    "set1 = list({'w','e','l','c','o','m','e','t','o','p','y','t','h','o','n'})\n",
    "for item in set1:\n",
    "    print(item)"
   ]
  },
  {
   "cell_type": "code",
   "execution_count": 12,
   "metadata": {},
   "outputs": [
    {
     "name": "stdout",
     "output_type": "stream",
     "text": [
      "name\n",
      "class\n",
      "year\n"
     ]
    }
   ],
   "source": [
    "# dictionary \n",
    "dict1 = {\n",
    "  \"name\": \"Anvesh\",\n",
    "  \"class\": \"python\",\n",
    "  \"year\": 2020\n",
    "}\n",
    "for x in dict1:\n",
    "  print(x) # this will only return keys"
   ]
  },
  {
   "cell_type": "code",
   "execution_count": 15,
   "metadata": {},
   "outputs": [
    {
     "name": "stdout",
     "output_type": "stream",
     "text": [
      "Anvesh\n",
      "python\n",
      "2020\n"
     ]
    }
   ],
   "source": [
    "# to get the values \n",
    "\n",
    "for x in dict1.values():\n",
    "  print(x) # this will return values"
   ]
  },
  {
   "cell_type": "code",
   "execution_count": 16,
   "metadata": {},
   "outputs": [
    {
     "name": "stdout",
     "output_type": "stream",
     "text": [
      "('name', 'Anvesh')\n",
      "('class', 'python')\n",
      "('year', 2020)\n"
     ]
    }
   ],
   "source": [
    "# to get whole items \n",
    "\n",
    "for x in dict1.items():\n",
    "  print(x) # this will return items"
   ]
  },
  {
   "cell_type": "code",
   "execution_count": null,
   "metadata": {},
   "outputs": [],
   "source": []
  }
 ],
 "metadata": {
  "kernelspec": {
   "display_name": "Python 3",
   "language": "python",
   "name": "python3"
  },
  "language_info": {
   "codemirror_mode": {
    "name": "ipython",
    "version": 3
   },
   "file_extension": ".py",
   "mimetype": "text/x-python",
   "name": "python",
   "nbconvert_exporter": "python",
   "pygments_lexer": "ipython3",
   "version": "3.7.6"
  }
 },
 "nbformat": 4,
 "nbformat_minor": 4
}
