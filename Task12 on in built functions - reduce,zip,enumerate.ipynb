{
 "cells": [
  {
   "cell_type": "markdown",
   "metadata": {},
   "source": [
    "#### reduce() "
   ]
  },
  {
   "cell_type": "markdown",
   "metadata": {},
   "source": [
    "##### The reduce() function accepts a function and a sequence and returns a single calculated value\n",
    "\n",
    "- Initially, the function is called with the first two items from the sequence and the result is returned\n",
    "- The function is then called again with the result obtained in step 1 and the next value in the sequence. This process keeps repeating until there are items in the sequence."
   ]
  },
  {
   "cell_type": "code",
   "execution_count": 3,
   "metadata": {},
   "outputs": [],
   "source": [
    "from functools import reduce"
   ]
  },
  {
   "cell_type": "code",
   "execution_count": 6,
   "metadata": {},
   "outputs": [
    {
     "name": "stdout",
     "output_type": "stream",
     "text": [
      "10\n"
     ]
    }
   ],
   "source": [
    "#ex1 - sum of seq values\n",
    "\n",
    "\n",
    "list1 = [1, 2, 3, 4]\n",
    "\n",
    "def do_sum(x1, x2): \n",
    "    return x1 + x2\n",
    "\n",
    "list_out = reduce(do_sum, list1)\n",
    "print(list_out)"
   ]
  },
  {
   "cell_type": "code",
   "execution_count": 8,
   "metadata": {},
   "outputs": [
    {
     "name": "stdout",
     "output_type": "stream",
     "text": [
      "4096\n"
     ]
    }
   ],
   "source": [
    "# ex2 - each value power to next seq value in a list\n",
    "\n",
    "list1 = [2, 3, 4]\n",
    "\n",
    "def do_sum(x1, x2): \n",
    "    return x1**x2\n",
    "\n",
    "list_out = reduce(do_sum, list1)\n",
    "print(list_out)"
   ]
  },
  {
   "cell_type": "markdown",
   "metadata": {},
   "source": [
    "#### zip()\n",
    "\n",
    "##### The zip() function returns a zip object, which is an iterator of tuples where the first item in each passed iterator is paired together, and then the second item in each passed iterator are paired together etc."
   ]
  },
  {
   "cell_type": "code",
   "execution_count": 15,
   "metadata": {},
   "outputs": [
    {
     "name": "stdout",
     "output_type": "stream",
     "text": [
      "(('Anvesh', 4, 40), ('Rajesh', 1, 50), ('Manvith', 3, 60), ('Arjun', 2, 70))\n"
     ]
    }
   ],
   "source": [
    "# ex1\n",
    "\n",
    "name = [ \"Anvesh\", \"Rajesh\", \"Manvith\", \"Arjun\" ] \n",
    "roll_no = [ 4, 1, 3, 2 ] \n",
    "marks = [ 40, 50, 60, 70 ] \n",
    "  \n",
    "# using zip() to map values \n",
    "mapped = zip(name, roll_no, marks) \n",
    "  \n",
    "# converting values to print as tuple \n",
    "mapped = tuple(mapped) \n",
    "print(mapped)"
   ]
  },
  {
   "cell_type": "code",
   "execution_count": 17,
   "metadata": {},
   "outputs": [
    {
     "name": "stdout",
     "output_type": "stream",
     "text": [
      "{(3, 'three'), (1, 'one'), (2, 'two')}\n"
     ]
    }
   ],
   "source": [
    "# ex2 \n",
    "number_list = [1, 2, 3]\n",
    "str_list = ['one', 'two', 'three']\n",
    "\n",
    "# using zip() to map values \n",
    "mapped = zip(number_list, str_list) \n",
    "  \n",
    "# converting values to print as set \n",
    "mapped = set(mapped) \n",
    "print(mapped)"
   ]
  },
  {
   "cell_type": "markdown",
   "metadata": {},
   "source": [
    "#### enumerate() \n",
    "\n",
    "- The enumerate() function takes a collection (e.g. a tuple) and returns it as an enumerate object.\n",
    "\n",
    "- The enumerate() function adds a counter as the key of the enumerate object.\n",
    "\n",
    "- syntax - enumerate(iterable, start)"
   ]
  },
  {
   "cell_type": "code",
   "execution_count": 21,
   "metadata": {},
   "outputs": [
    {
     "name": "stdout",
     "output_type": "stream",
     "text": [
      "[(0, 'apple'), (1, 'banana'), (2, 'cherry')]\n"
     ]
    }
   ],
   "source": [
    "#ex1 \n",
    "x = ('apple', 'banana', 'cherry')\n",
    "y = enumerate(x)\n",
    "\n",
    "print(list(y))"
   ]
  },
  {
   "cell_type": "code",
   "execution_count": 22,
   "metadata": {},
   "outputs": [
    {
     "name": "stdout",
     "output_type": "stream",
     "text": [
      "[(1, 'Mango'), (2, 'Apple'), (3, 'Orange'), (4, 'Peach')]\n"
     ]
    }
   ],
   "source": [
    "# ex2 \n",
    "fruits = ['Mango', 'Apple', 'Orange', 'Peach']\n",
    "#print(list(enumerate(fruits)))\n",
    "print(list(enumerate(fruits, start=1)))"
   ]
  },
  {
   "cell_type": "code",
   "execution_count": null,
   "metadata": {},
   "outputs": [],
   "source": []
  }
 ],
 "metadata": {
  "kernelspec": {
   "display_name": "Python 3",
   "language": "python",
   "name": "python3"
  },
  "language_info": {
   "codemirror_mode": {
    "name": "ipython",
    "version": 3
   },
   "file_extension": ".py",
   "mimetype": "text/x-python",
   "name": "python",
   "nbconvert_exporter": "python",
   "pygments_lexer": "ipython3",
   "version": "3.7.6"
  }
 },
 "nbformat": 4,
 "nbformat_minor": 4
}
