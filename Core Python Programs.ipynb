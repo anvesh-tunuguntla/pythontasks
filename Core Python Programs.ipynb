{
 "cells": [
  {
   "cell_type": "markdown",
   "metadata": {},
   "source": [
    "## 1) Basic Programs"
   ]
  },
  {
   "cell_type": "code",
   "execution_count": 18,
   "metadata": {},
   "outputs": [
    {
     "name": "stdout",
     "output_type": "stream",
     "text": [
      "sum of 10 and 5 is : 15\n"
     ]
    }
   ],
   "source": [
    "#1 Python program to add two numbers\n",
    "num1 = 10\n",
    "num2 = 5\n",
    "sum_output = num1 + num2\n",
    "print(\"sum of {} and {} is : {}\".format(num1,num2,sum_output))"
   ]
  },
  {
   "cell_type": "code",
   "execution_count": 38,
   "metadata": {},
   "outputs": [
    {
     "name": "stdout",
     "output_type": "stream",
     "text": [
      "120\n"
     ]
    }
   ],
   "source": [
    "#2 Python Program for factorial of a number\n",
    "\n",
    "fac_num = 5\n",
    "fac_output = 1\n",
    "while(fac_num>1):\n",
    "    fac_output = fac_output*fac_num\n",
    "    fac_num -= 1\n",
    "else:\n",
    "    if fac_num == 0:\n",
    "        fac_output = 0\n",
    "print(fac_output)"
   ]
  },
  {
   "cell_type": "code",
   "execution_count": 37,
   "metadata": {},
   "outputs": [
    {
     "name": "stdout",
     "output_type": "stream",
     "text": [
      "Simple interest is  15.0\n"
     ]
    }
   ],
   "source": [
    "#3 Python Program for simple interest\n",
    "\n",
    "def simple_interest(p=0,t=0,r=0):\n",
    "    result = (p * t * r) / 100\n",
    "    print(\"Simple interest is \",result)\n",
    "simple_interest(10,5,30)"
   ]
  },
  {
   "cell_type": "code",
   "execution_count": 51,
   "metadata": {},
   "outputs": [
    {
     "name": "stdout",
     "output_type": "stream",
     "text": [
      "Compound interest is  1333.0992\n"
     ]
    }
   ],
   "source": [
    "#4 Python Program for compound interest\n",
    "\n",
    "def compound_interest(p=0,t=0,r=0):\n",
    "    result = p * (1 + r/100)**t\n",
    "    print(\"Compound interest is \",result)\n",
    "compound_interest(1200,2,5.4)"
   ]
  },
  {
   "cell_type": "code",
   "execution_count": 10,
   "metadata": {},
   "outputs": [
    {
     "name": "stdout",
     "output_type": "stream",
     "text": [
      "410.82962962962966\n",
      "407  is not an Armstrong Number\n"
     ]
    }
   ],
   "source": [
    "#5 Python Program to check Armstrong Number\n",
    "\n",
    "arm_num = 407\n",
    "arm_sum = 0\n",
    "x = arm_num\n",
    "#rem = 1\n",
    "while(x!=0):\n",
    "    rem = x%10\n",
    "    arm_sum = arm_sum+ (rem*rem*rem)\n",
    "    x = x/10\n",
    "print(arm_sum)\n",
    "if(arm_sum == arm_num):\n",
    "    print(arm_num,\" is a Armstrong Number\")\n",
    "else:\n",
    "    print(arm_num,\" is not an Armstrong Number\")"
   ]
  },
  {
   "cell_type": "code",
   "execution_count": 112,
   "metadata": {},
   "outputs": [
    {
     "name": "stdout",
     "output_type": "stream",
     "text": [
      "9\n",
      "120  is not an Armstrong Number\n"
     ]
    }
   ],
   "source": [
    "arm_num = 120\n",
    "arm_sum = 0\n",
    "i = 0\n",
    "x = arm_num\n",
    "while(i<=len(str(arm_num))-1):\n",
    "    rem = int(str(arm_num)[i])\n",
    "    arm_sum = arm_sum+ (rem**len(str(arm_num)))\n",
    "    x = x/10\n",
    "    i += 1\n",
    "print(arm_sum)\n",
    "if(arm_sum == arm_num):\n",
    "    print(arm_num,\" is a Armstrong Number\")\n",
    "else:\n",
    "    print(arm_num,\" is not an Armstrong Number\")"
   ]
  },
  {
   "cell_type": "code",
   "execution_count": 67,
   "metadata": {},
   "outputs": [
    {
     "name": "stdout",
     "output_type": "stream",
     "text": [
      "78.55\n"
     ]
    }
   ],
   "source": [
    "#6 Python Program for Program to find area of a circle\n",
    "radius = 5\n",
    "pi = 3.142\n",
    "area = pi * (radius*radius)\n",
    "print(area)"
   ]
  },
  {
   "cell_type": "code",
   "execution_count": 4,
   "metadata": {},
   "outputs": [
    {
     "name": "stdout",
     "output_type": "stream",
     "text": [
      "1 2 3 5 7 9 11 13 15 17 19 21 23 25 27 29 31 33 35 37 39 41 43 45 47 49 51 53 55 57 59 61 63 65 67 69 71 73 75 77 79 81 83 85 87 89 91 93 95 97 99 "
     ]
    }
   ],
   "source": [
    "#7 Python program to print all Prime numbers in an Interval\n",
    "start = 1\n",
    "end = 100\n",
    "prime_numbers = start \n",
    "while(start < end):\n",
    "    divisible_count = 0\n",
    "    i = 1 \n",
    "    while(i <= start):\n",
    "        if(start%2==0):\n",
    "            divisible_count += 1\n",
    "        i += 1\n",
    "    if(divisible_count < 3):\n",
    "        print(start,end=\" \")   \n",
    "    start +=1\n",
    "     "
   ]
  },
  {
   "cell_type": "code",
   "execution_count": 24,
   "metadata": {},
   "outputs": [
    {
     "name": "stdout",
     "output_type": "stream",
     "text": [
      "4 not a prime number\n"
     ]
    }
   ],
   "source": [
    "#8 Python program to check whether a number is Prime or not\n",
    "num_p = 4\n",
    "if num_p == 1:\n",
    "    print(num_p,\"not a prime number\")\n",
    "else:\n",
    "    if num_p == 2:\n",
    "        print(num_p,\"is a prime number\")\n",
    "    for i in range(2,num_p):\n",
    "        if (num_p%i) == 0:\n",
    "            print(num_p,\"not a prime number\")\n",
    "            break\n",
    "        else:\n",
    "            print(num_p,\"is a prime number\")"
   ]
  },
  {
   "cell_type": "code",
   "execution_count": 32,
   "metadata": {},
   "outputs": [
    {
     "name": "stdout",
     "output_type": "stream",
     "text": [
      "34\n"
     ]
    }
   ],
   "source": [
    "#9 Python Program for n-th Fibonacci number\n",
    "n_num = 10\n",
    "f1 = 0\n",
    "f2 = 1\n",
    "if n_num<0:\n",
    "    print(\"Invalid Input\")\n",
    "elif n_num==0:\n",
    "    print(f1)\n",
    "elif n_num==1:\n",
    "    print(f2)\n",
    "else:\n",
    "    for i in range(2,n_num):\n",
    "        temp = f1+f2\n",
    "        f1 = f2\n",
    "        f2 = temp\n",
    "    print(f2)"
   ]
  },
  {
   "cell_type": "code",
   "execution_count": 31,
   "metadata": {},
   "outputs": [
    {
     "name": "stdout",
     "output_type": "stream",
     "text": [
      "0 1 1 2 3 5 8 13 21 34 55 89 144 233 377 610 987 1597 2584 4181 "
     ]
    }
   ],
   "source": [
    "#10 Python Program for Fibonacci numbers\n",
    "num1 = 0; \n",
    "num2 = 1; \n",
    "n = 20\n",
    "counter = 0; \n",
    "while (counter < n):\n",
    "    print(num1, end =\" \")\n",
    "    num3 = num2 + num1; \n",
    "    num1 = num2; \n",
    "    num2 = num3; \n",
    "    counter = counter + 1; \n",
    "    "
   ]
  },
  {
   "cell_type": "code",
   "execution_count": 60,
   "metadata": {},
   "outputs": [
    {
     "name": "stdout",
     "output_type": "stream",
     "text": [
      "True\n"
     ]
    }
   ],
   "source": [
    "#11 Python Program for How to check if a given number is Fibonacci number?\n",
    "\n",
    "import math\n",
    "\n",
    "def is_square_number(x): \n",
    "    sqr = int(math.sqrt(x))\n",
    "    if(sqr*sqr == x):\n",
    "        return True\n",
    "    else:\n",
    "        return False\n",
    "\n",
    "def is_fibonacci_number(n): \n",
    "    return is_square_number(5*n*n + 4) or is_square_number(5*n*n - 4)\n",
    "print(is_fibonacci_number(610))\n"
   ]
  },
  {
   "cell_type": "code",
   "execution_count": 1,
   "metadata": {},
   "outputs": [
    {
     "name": "stdout",
     "output_type": "stream",
     "text": [
      "30\n"
     ]
    }
   ],
   "source": [
    "#12 Python Program for n\\’th multiple of a number in Fibonacci Series\n",
    "f1 = 0\n",
    "f2 = 1\n",
    "i =2;\n",
    "f_num = 5\n",
    "p_num = 4\n",
    "while i!=0: \n",
    "    f3 = f1 + f2; \n",
    "    f1 = f2; \n",
    "    f2 = f3; \n",
    "\n",
    "    if f2%p_num == 0: \n",
    "        print(f_num*i)\n",
    "        break\n",
    "    i+=1\n"
   ]
  },
  {
   "cell_type": "code",
   "execution_count": 3,
   "metadata": {},
   "outputs": [
    {
     "name": "stdout",
     "output_type": "stream",
     "text": [
      "The ASCII value of ' ' is 32\n"
     ]
    }
   ],
   "source": [
    "#13 Program to print ASCII Value of a character\n",
    "char = ' '\n",
    "print(\"The ASCII value of '\" + char + \"' is\", ord(char)) "
   ]
  },
  {
   "cell_type": "code",
   "execution_count": 5,
   "metadata": {},
   "outputs": [
    {
     "name": "stdout",
     "output_type": "stream",
     "text": [
      "5\n"
     ]
    }
   ],
   "source": [
    "#14 Python Program for Sum of squares of first n natural numbers\n",
    "nums = 2\n",
    "sqr_sum = 0\n",
    "for i in range(1, nums+1) : \n",
    "    sqr_sum = sqr_sum + (i * i) \n",
    "\n",
    "print(sqr_sum)"
   ]
  },
  {
   "cell_type": "code",
   "execution_count": 7,
   "metadata": {},
   "outputs": [
    {
     "name": "stdout",
     "output_type": "stream",
     "text": [
      "36\n"
     ]
    }
   ],
   "source": [
    "#15 Python Program for cube sum of first n natural numbers\n",
    "nums = 3\n",
    "cube_sum = 0\n",
    "for i in range(1, nums+1) : \n",
    "    cube_sum = cube_sum + (i * i * i) \n",
    "\n",
    "print(cube_sum)"
   ]
  },
  {
   "cell_type": "markdown",
   "metadata": {},
   "source": [
    "## 2) String Programs"
   ]
  },
  {
   "cell_type": "code",
   "execution_count": 13,
   "metadata": {},
   "outputs": [
    {
     "name": "stdout",
     "output_type": "stream",
     "text": [
      "refer is a palindrome string\n"
     ]
    }
   ],
   "source": [
    "#1 Python program to check if a string is palindrome or not\n",
    "\n",
    "str1 = \"refer\"\n",
    "if(str1 == str1[::-1]):\n",
    "    print(str1,\"is a palindrome string\")\n",
    "else:\n",
    "    print(str1,\"is not a palindrome string\")"
   ]
  },
  {
   "cell_type": "code",
   "execution_count": 18,
   "metadata": {},
   "outputs": [
    {
     "name": "stdout",
     "output_type": "stream",
     "text": [
      "python to welcome\n"
     ]
    }
   ],
   "source": [
    "#2 Reverse words in a given String in Python\n",
    "str2 = \"welcome to python\"\n",
    "str2_split = str2.split(\" \")\n",
    "reverse_str2 = \" \".join(str2_split[::-1])\n",
    "print(reverse_str2)"
   ]
  },
  {
   "cell_type": "code",
   "execution_count": 19,
   "metadata": {},
   "outputs": [
    {
     "name": "stdout",
     "output_type": "stream",
     "text": [
      "to\n",
      "python\n"
     ]
    }
   ],
   "source": [
    "#3 Python program to print even length words in a string\n",
    "\n",
    "str3 = \"welcome to python\"\n",
    "str3_split = str3.split(\" \")\n",
    "for word in str3_split:\n",
    "    if(len(word)%2==0):\n",
    "        print(word)"
   ]
  },
  {
   "cell_type": "code",
   "execution_count": 21,
   "metadata": {},
   "outputs": [
    {
     "name": "stdout",
     "output_type": "stream",
     "text": [
      "5\n"
     ]
    }
   ],
   "source": [
    "#4 Python | Count the Number of matching characters in a pair of string\n",
    "\n",
    "str1 = \"abcdef\"\n",
    "str2 = \"bbcdefrg\"\n",
    "set_str1 = set(str1)\n",
    "set_str2 = set(str2)\n",
    "match_char = set_str1.intersection(set_str2)\n",
    "print(len(match_char))"
   ]
  },
  {
   "cell_type": "code",
   "execution_count": 24,
   "metadata": {},
   "outputs": [
    {
     "name": "stdout",
     "output_type": "stream",
     "text": [
      "programming is a substring\n"
     ]
    }
   ],
   "source": [
    "#5 Python | Check if a Substring is Present in a Given String\n",
    "\n",
    "str1 = \"welcome to python programming\"\n",
    "sub_str1 = \"programming\"\n",
    "if(str1.find(sub_str1)==-1):\n",
    "    print(sub_str1,\"not a substring\")\n",
    "else:\n",
    "    print(sub_str1,\"is a substring\")"
   ]
  },
  {
   "cell_type": "code",
   "execution_count": 26,
   "metadata": {},
   "outputs": [
    {
     "name": "stdout",
     "output_type": "stream",
     "text": [
      "python asem\n"
     ]
    }
   ],
   "source": [
    "#6 Remove all duplicates from a given string in Python\n",
    "str1 = \"python assessment\"\n",
    "str1_out = \"\"\n",
    "for i in str1:\n",
    "    if(i not in str1_out):\n",
    "        str1_out += i\n",
    "print(str1_out)"
   ]
  },
  {
   "cell_type": "code",
   "execution_count": 31,
   "metadata": {},
   "outputs": [
    {
     "name": "stdout",
     "output_type": "stream",
     "text": [
      "String Has Special characters\n"
     ]
    }
   ],
   "source": [
    "#7 Python | Program to check if a string contains any special character\n",
    "\n",
    "str1 = \"$#&^python\"\n",
    "spc_char = \"[@_!#$%^&*()<>?/\\|}{~:]\"\n",
    "no_sp_str1 = \"\"\n",
    "for i in str1:\n",
    "    if(i in spc_char):\n",
    "        print(\"String Has Special characters\")\n",
    "        break\n",
    "    else:\n",
    "        no_sp_str1 += i\n",
    "if(str1 == no_sp_str1):\n",
    "    print(\"String Has no Special characters\")"
   ]
  },
  {
   "cell_type": "code",
   "execution_count": 34,
   "metadata": {},
   "outputs": [
    {
     "name": "stdout",
     "output_type": "stream",
     "text": [
      "welcome\n",
      "python\n"
     ]
    }
   ],
   "source": [
    "#8 Find words which are greater than given length k\n",
    "\n",
    "k = 2\n",
    "str1 = \"welcome to python\"\n",
    "str1_split = str1.split(\" \")\n",
    "for word in str1_split:\n",
    "    if(len(word)>k):\n",
    "        print(word)"
   ]
  },
  {
   "cell_type": "code",
   "execution_count": 36,
   "metadata": {},
   "outputs": [
    {
     "name": "stdout",
     "output_type": "stream",
     "text": [
      "6\n"
     ]
    }
   ],
   "source": [
    "#9 Execute a String of Code in Python\n",
    "lines_of_code = \"\"\"a = 2\n",
    "b = 4\n",
    "c = a+b\n",
    "print(c) \"\"\"\n",
    "exec(lines_of_code)"
   ]
  },
  {
   "cell_type": "code",
   "execution_count": 42,
   "metadata": {},
   "outputs": [
    {
     "name": "stdout",
     "output_type": "stream",
     "text": [
      "011010110101 is a binary string\n"
     ]
    }
   ],
   "source": [
    "#10 Python | Check if a given string is binary string or not\n",
    "\n",
    "str1 = \"011010110101\"\n",
    "\n",
    "binaries = {'0','1'}\n",
    "\n",
    "str1_set = set(str1)\n",
    "if binaries == str1_set or str1_set=={'0'} or str1_set=={'1'}:\n",
    "    print(str1,\"is a binary string\")\n",
    "else:\n",
    "    print(str1,\"is not a binary string\")"
   ]
  },
  {
   "cell_type": "markdown",
   "metadata": {},
   "source": [
    "## 3) List Programs "
   ]
  },
  {
   "cell_type": "code",
   "execution_count": 43,
   "metadata": {},
   "outputs": [
    {
     "name": "stdout",
     "output_type": "stream",
     "text": [
      "[1, 2, 3, 4, 5]\n"
     ]
    }
   ],
   "source": [
    "#1 Python program to interchange first and last elements in a list\n",
    "\n",
    "list1 = [5,2,3,4,1]\n",
    "f_list1 = list1[0]\n",
    "list1[0] = list1[-1]\n",
    "list1[-1] = f_list1\n",
    "print(list1)"
   ]
  },
  {
   "cell_type": "code",
   "execution_count": 44,
   "metadata": {},
   "outputs": [
    {
     "name": "stdout",
     "output_type": "stream",
     "text": [
      "[4, 2, 3, 1, 5]\n"
     ]
    }
   ],
   "source": [
    "#2 Python program to swap two elements in a list by position\n",
    "\n",
    "list1 = [1,2,3,4,5]\n",
    "pos1 = 0\n",
    "pos2 = 3\n",
    "\n",
    "list1[pos1],list1[pos2] = list1[pos2],list1[pos1]\n",
    "\n",
    "print(list1)"
   ]
  },
  {
   "cell_type": "code",
   "execution_count": 50,
   "metadata": {},
   "outputs": [
    {
     "name": "stdout",
     "output_type": "stream",
     "text": [
      "5\n"
     ]
    }
   ],
   "source": [
    "#3 Python find length of list (not len() function)\n",
    "\n",
    "list1 = [1,2,3,4,5]\n",
    "c = 0\n",
    "for i in list1:\n",
    "    c += 1\n",
    "print(c)"
   ]
  },
  {
   "cell_type": "code",
   "execution_count": 52,
   "metadata": {},
   "outputs": [
    {
     "name": "stdout",
     "output_type": "stream",
     "text": [
      "4 value exist in [1, 2, 3, 4, 5]\n"
     ]
    }
   ],
   "source": [
    "#4 Python check if element exists in list\n",
    "\n",
    "list1 = [1,2,3,4,5]\n",
    "for i in list1:\n",
    "    if i == 4:\n",
    "        print(i,\"value exist in\",list1)\n",
    "        break"
   ]
  },
  {
   "cell_type": "code",
   "execution_count": 55,
   "metadata": {},
   "outputs": [
    {
     "name": "stdout",
     "output_type": "stream",
     "text": [
      "121\n"
     ]
    }
   ],
   "source": [
    "#5 Python program to find sum of elements in list\n",
    "\n",
    "list1 = [1,2,3,4,5,6,100]\n",
    "sum_value = 0\n",
    "for i in list1:\n",
    "    sum_value += i\n",
    "print(sum_value)"
   ]
  },
  {
   "cell_type": "code",
   "execution_count": 58,
   "metadata": {},
   "outputs": [
    {
     "name": "stdout",
     "output_type": "stream",
     "text": [
      "120\n"
     ]
    }
   ],
   "source": [
    "#6 Python | Multiply all numbers in the list\n",
    "\n",
    "list1 = [1,2,3,4,5]\n",
    "mul_value = 1\n",
    "for i in list1:\n",
    "    mul_value *= i\n",
    "print(mul_value)"
   ]
  },
  {
   "cell_type": "code",
   "execution_count": 62,
   "metadata": {},
   "outputs": [
    {
     "name": "stdout",
     "output_type": "stream",
     "text": [
      "1\n"
     ]
    }
   ],
   "source": [
    "#7 Python program to find smallest number in a list\n",
    "list1 = [1,2,3,4,5]\n",
    "small_value = min(list1)\n",
    "print(small_value)"
   ]
  },
  {
   "cell_type": "code",
   "execution_count": 64,
   "metadata": {},
   "outputs": [
    {
     "name": "stdout",
     "output_type": "stream",
     "text": [
      "5\n"
     ]
    }
   ],
   "source": [
    "#8 Python program to find largest number in a list\n",
    "list1 = [1,2,3,4,5]\n",
    "max_value = max(list1)\n",
    "print(max_value)"
   ]
  },
  {
   "cell_type": "code",
   "execution_count": 70,
   "metadata": {},
   "outputs": [
    {
     "name": "stdout",
     "output_type": "stream",
     "text": [
      "4\n"
     ]
    }
   ],
   "source": [
    "#9 Python program to find second largest number in a list\n",
    "list1 = [1,2,3,4,5]\n",
    "list1.sort()\n",
    "print(list1[-2])"
   ]
  },
  {
   "cell_type": "code",
   "execution_count": 71,
   "metadata": {},
   "outputs": [
    {
     "name": "stdout",
     "output_type": "stream",
     "text": [
      "2\n",
      "4\n"
     ]
    }
   ],
   "source": [
    "#10 Python program to print even numbers in a list\n",
    "list1 = [1,2,3,4,5]\n",
    "for i in list1:\n",
    "    if i%2==0:\n",
    "        print(i)"
   ]
  },
  {
   "cell_type": "code",
   "execution_count": 72,
   "metadata": {},
   "outputs": [
    {
     "name": "stdout",
     "output_type": "stream",
     "text": [
      "1\n",
      "3\n",
      "5\n"
     ]
    }
   ],
   "source": [
    "#11 Python program to print odd numbers in a List\n",
    "list1 = [1,2,3,4,5]\n",
    "for i in list1:\n",
    "    if i%2!=0:\n",
    "        print(i)"
   ]
  },
  {
   "cell_type": "code",
   "execution_count": 76,
   "metadata": {},
   "outputs": [
    {
     "name": "stdout",
     "output_type": "stream",
     "text": [
      "6 8 10 12 14 16 18 20 "
     ]
    }
   ],
   "source": [
    "#12 Python program to print all even numbers in a range\n",
    "start = 5\n",
    "end = 20 \n",
    "for i in range(start,end+1):\n",
    "    if i%2==0:\n",
    "        print(i, end=\" \")"
   ]
  },
  {
   "cell_type": "code",
   "execution_count": 77,
   "metadata": {},
   "outputs": [
    {
     "name": "stdout",
     "output_type": "stream",
     "text": [
      "5 7 9 11 13 15 17 19 "
     ]
    }
   ],
   "source": [
    "#13 Python program to print all odd numbers in a range\n",
    "start = 5\n",
    "end = 20 \n",
    "for i in range(start,end+1):\n",
    "    if i%2!=0:\n",
    "        print(i, end=\" \")"
   ]
  },
  {
   "cell_type": "code",
   "execution_count": 78,
   "metadata": {},
   "outputs": [
    {
     "name": "stdout",
     "output_type": "stream",
     "text": [
      "even numbers count=  2\n",
      "odd numbers count=  3\n"
     ]
    }
   ],
   "source": [
    "#14 Python program to count Even and Odd numbers in a List\n",
    "list1 = [1,2,3,4,5]\n",
    "e_count = 0\n",
    "o_count = 0\n",
    "for i in list1:\n",
    "    if i%2==0:\n",
    "        e_count += 1\n",
    "    else:\n",
    "        o_count += 1\n",
    "print(\"even numbers count= \",e_count)\n",
    "print(\"odd numbers count= \",o_count)"
   ]
  },
  {
   "cell_type": "code",
   "execution_count": 79,
   "metadata": {},
   "outputs": [
    {
     "name": "stdout",
     "output_type": "stream",
     "text": [
      "1 3 "
     ]
    }
   ],
   "source": [
    "#15 Python program to print positive numbers in a list\n",
    "list1 = [1,-2,3,-4,-5]\n",
    "for i in list1:\n",
    "    if i>0:\n",
    "        print(i,end=\" \")"
   ]
  },
  {
   "cell_type": "markdown",
   "metadata": {},
   "source": [
    "## 4) Dictionary Programs"
   ]
  },
  {
   "cell_type": "code",
   "execution_count": 80,
   "metadata": {},
   "outputs": [
    {
     "name": "stdout",
     "output_type": "stream",
     "text": [
      "600\n"
     ]
    }
   ],
   "source": [
    "#1 Python program to find the sum of all items in a dictionary\n",
    "dict1 = {'a': 100, 'b':200, 'c':300}\n",
    "sum_value = 0\n",
    "for i in dict1:\n",
    "    sum_value += dict1[i]\n",
    "print(sum_value)"
   ]
  },
  {
   "cell_type": "code",
   "execution_count": 88,
   "metadata": {},
   "outputs": [
    {
     "name": "stdout",
     "output_type": "stream",
     "text": [
      "[\"19.07'53.2\", \"28.33'34.1\"]\n",
      "[\"72.54'51.0\", \"77.06'16.6\"]\n",
      "['Hyderabad', 'Bangalore']\n"
     ]
    }
   ],
   "source": [
    "#2 Python dictionary with keys having multiple inputs\n",
    "dict2 = {(\"19.07'53.2\", \"72.54'51.0\"):\"Hyderabad\",\n",
    "          (\"28.33'34.1\", \"77.06'16.6\"):\"Bangalore\"}\n",
    "#print(dict2)\n",
    "\n",
    "lat=[]\n",
    "lon = []\n",
    "place = []\n",
    "for i in dict2:\n",
    "    lat.append(i[0])\n",
    "    lon.append(i[1]) \n",
    "    place.append(dict2[i[0], i[1]])\n",
    "print(lat) \n",
    "print(lon) \n",
    "print(place) "
   ]
  },
  {
   "cell_type": "code",
   "execution_count": 101,
   "metadata": {},
   "outputs": [
    {
     "name": "stdout",
     "output_type": "stream",
     "text": [
      "100\n",
      "0\n"
     ]
    }
   ],
   "source": [
    "#3 Handling missing keys in Python dictionaries\n",
    "import collections\n",
    "dict1 = {'a': 100, 'b':200}\n",
    "print(dict1['a'])\n",
    "#print(dict1['c'])\n",
    "dict1.setdefault('c',0)\n",
    "print(dict1['c'])"
   ]
  },
  {
   "cell_type": "code",
   "execution_count": 15,
   "metadata": {},
   "outputs": [
    {
     "name": "stdout",
     "output_type": "stream",
     "text": [
      "{'d': 6, 'c': 4, 'a': 10, 'b': 8}\n",
      "{'a': 10, 'b': 8, 'd': 6, 'c': 4}\n"
     ]
    }
   ],
   "source": [
    "#4 Python | Merging two Dictionaries using update\n",
    "\n",
    "dict1 = {'a': 10, 'b': 8} \n",
    "dict2 = {'d': 6, 'c': 4}\n",
    "dict2.update(dict1)\n",
    "print(dict2)\n",
    "\n",
    "\n",
    "#using **\n",
    "dict3 = {'a': 10, 'b': 8} \n",
    "dict4 = {'d': 6, 'c': 4}\n",
    "\n",
    "dict5 = {**dict1, **dict2}\n",
    "print(dict5)"
   ]
  },
  {
   "cell_type": "code",
   "execution_count": 22,
   "metadata": {},
   "outputs": [
    {
     "name": "stdout",
     "output_type": "stream",
     "text": [
      "[80, 20]\n"
     ]
    }
   ],
   "source": [
    "#5 Python | Find common elements in three sorted arrays by dictionary intersection\n",
    "list1 = [1, 5, 10, 20, 40, 80] \n",
    "list2 = [6, 7, 20, 80, 100] \n",
    "list3 = [3, 4, 15, 20, 30, 70, 80, 120]\n",
    "\n",
    "from collections import Counter \n",
    "\n",
    "dict1 = Counter(list1) \n",
    "dict2 = Counter(list2) \n",
    "dict3 = Counter(list3)\n",
    "resultDict = dict(dict1.items() & dict2.items() & dict3.items()) \n",
    "#print(resultDict.keys())\n",
    "list1 = list(resultDict.keys())\n",
    "print(list1)"
   ]
  },
  {
   "cell_type": "code",
   "execution_count": 51,
   "metadata": {},
   "outputs": [
    {
     "name": "stdout",
     "output_type": "stream",
     "text": [
      "true\n"
     ]
    }
   ],
   "source": [
    "#6 Python | Check order of character in string using OrderedDict( )\n",
    "str1 = 'engineers rock' \n",
    "pattern = 'egr'\n",
    "\n",
    "from collections import OrderedDict  \n",
    "\n",
    "dict1 = OrderedDict.fromkeys(str1)\n",
    "ptrlen = 0 \n",
    "for key,value in dict1.items(): \n",
    "    if (key == pattern[ptrlen]): \n",
    "        ptrlen = ptrlen + 1\n",
    "    \n",
    "    if (ptrlen == (len(pattern))):\n",
    "        print('true')\n",
    "        break\n",
    "\n"
   ]
  },
  {
   "cell_type": "code",
   "execution_count": 71,
   "metadata": {},
   "outputs": [
    {
     "name": "stdout",
     "output_type": "stream",
     "text": [
      "a v "
     ]
    }
   ],
   "source": [
    "#7 Find all duplicate characters in string\n",
    "from collections import Counter \n",
    "str1 = \"aanvvesh\"\n",
    "word_count = Counter(str1) \n",
    "count = 0\n",
    "for k,i in word_count.items(): \n",
    "    if( i > 1 ): \n",
    "        print(k, end=\" \")\n",
    "    count = count + 1"
   ]
  },
  {
   "cell_type": "code",
   "execution_count": 79,
   "metadata": {},
   "outputs": [
    {
     "name": "stdout",
     "output_type": "stream",
     "text": [
      "Python is great and Java also\n"
     ]
    }
   ],
   "source": [
    " #8 Python Remove all duplicates words from a given sentence\n",
    "from collections import Counter\n",
    "str1 = 'Python is great and Java is also great'\n",
    "str1 = str1.split(\" \")\n",
    "#print(str1)\n",
    "# for i in range(0, len(str1)): \n",
    "#     str1[i] = \"\".join(str1[i]) \n",
    "# print(str1)\n",
    "non_dup_words = Counter(str1) \n",
    "str2 = \" \".join(non_dup_words.keys()) \n",
    "print (str2)"
   ]
  },
  {
   "cell_type": "code",
   "execution_count": 86,
   "metadata": {},
   "outputs": [
    {
     "name": "stdout",
     "output_type": "stream",
     "text": [
      "{1: 5, 5: 2, 3: 3, 4: 3, 2: 4}\n"
     ]
    }
   ],
   "source": [
    "#9 Counting the frequencies in a list using dictionary in Python\n",
    "my_list =[1, 1, 1, 5, 5, 3, 1, 3, 3, 1, 4, 4, 4, 2, 2, 2, 2]\n",
    "my_dict = {} \n",
    "for item in my_list: \n",
    "    if (item in my_dict): \n",
    "        my_dict[item] += 1\n",
    "    else: \n",
    "        my_dict[item] = 1\n",
    "print(my_dict)"
   ]
  },
  {
   "cell_type": "code",
   "execution_count": 87,
   "metadata": {},
   "outputs": [
    {
     "name": "stdout",
     "output_type": "stream",
     "text": [
      "{'Sachin': 10, 'MSD': 7, 'Kohli': 18, 'Rohit': 45}\n"
     ]
    }
   ],
   "source": [
    "#10 Python | Convert a list of Tuples into Dictionary\n",
    "my_list = [('Sachin', 10), ('MSD', 7), ('Kohli', 18), ('Rohit', 45)]\n",
    "my_dict = {}\n",
    "for key,value in my_list:\n",
    "    my_dict[key] = value\n",
    "print(my_dict)"
   ]
  },
  {
   "cell_type": "code",
   "execution_count": null,
   "metadata": {},
   "outputs": [],
   "source": []
  },
  {
   "cell_type": "code",
   "execution_count": null,
   "metadata": {},
   "outputs": [],
   "source": []
  }
 ],
 "metadata": {
  "kernelspec": {
   "display_name": "Python 3",
   "language": "python",
   "name": "python3"
  },
  "language_info": {
   "codemirror_mode": {
    "name": "ipython",
    "version": 3
   },
   "file_extension": ".py",
   "mimetype": "text/x-python",
   "name": "python",
   "nbconvert_exporter": "python",
   "pygments_lexer": "ipython3",
   "version": "3.7.6"
  }
 },
 "nbformat": 4,
 "nbformat_minor": 4
}
