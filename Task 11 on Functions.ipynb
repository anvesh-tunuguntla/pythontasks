{
 "cells": [
  {
   "cell_type": "markdown",
   "metadata": {},
   "source": [
    "## Task11\n",
    "- Ask 2 numbers from users and store it in num1 and num2\n",
    "- Ask user to press 1 for addition,2 for subtraction,3 for multiplication and 4 for division\n",
    "- create 4 seperate functions for each operation (i.e. addition,subtraction,multiplication and division)\n",
    "- based on number given by user,call that perticular function and print the output"
   ]
  },
  {
   "cell_type": "code",
   "execution_count": 4,
   "metadata": {},
   "outputs": [
    {
     "name": "stdout",
     "output_type": "stream",
     "text": [
      "Enter number 2\n",
      "Enter another number 3\n",
      "press 1 for addition,2 for subtraction,3 for multiplication and 4 for division 2\n",
      "The subtraction of 2 and 3 is -1 \n"
     ]
    }
   ],
   "source": [
    "def addition(num1,num2):\n",
    "    num3 = num1 + num2\n",
    "    print(\"The addition of {} and {} is {} \".format(num1,num2,num3))\n",
    "\n",
    "def subtraction(num1,num2):\n",
    "    num3 = num1 - num2\n",
    "    print(\"The subtraction of {} and {} is {} \".format(num1,num2,num3))\n",
    "    \n",
    "def multiplication(num1,num2):\n",
    "    num3 = num1 * num2\n",
    "    print(\"The multiplication of {} and {} is {} \".format(num1,num2,num3))\n",
    "    \n",
    "def division(num1,num2):\n",
    "    num3 = num1 / num2\n",
    "    print(\"The division of {} and {} is {} \".format(num1,num2,num3))\n",
    "    \n",
    "\n",
    "num1 = int(input(\"Enter number \"))\n",
    "num2 = int(input(\"Enter another number \"))\n",
    "\n",
    "operation_number = input(\"press 1 for addition,2 for subtraction,3 for multiplication and 4 for division \")\n",
    "if operation_number == '1':\n",
    "    addition(num1,num2)\n",
    "elif operation_number == '2':\n",
    "    subtraction(num1,num2)\n",
    "elif operation_number == '3':\n",
    "    multiplication(num1,num2)\n",
    "elif operation_number == '4':\n",
    "    division(num1,num2)\n",
    "else:\n",
    "    print(\"invalid input given\")"
   ]
  },
  {
   "cell_type": "code",
   "execution_count": null,
   "metadata": {},
   "outputs": [],
   "source": []
  }
 ],
 "metadata": {
  "kernelspec": {
   "display_name": "Python 3",
   "language": "python",
   "name": "python3"
  },
  "language_info": {
   "codemirror_mode": {
    "name": "ipython",
    "version": 3
   },
   "file_extension": ".py",
   "mimetype": "text/x-python",
   "name": "python",
   "nbconvert_exporter": "python",
   "pygments_lexer": "ipython3",
   "version": "3.7.6"
  }
 },
 "nbformat": 4,
 "nbformat_minor": 4
}
