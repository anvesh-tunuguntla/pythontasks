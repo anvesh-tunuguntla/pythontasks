{
 "cells": [
  {
   "cell_type": "code",
   "execution_count": null,
   "metadata": {},
   "outputs": [],
   "source": [
    "# remove before and after spaces from a string with out inbuilt functions"
   ]
  },
  {
   "cell_type": "code",
   "execution_count": 35,
   "metadata": {},
   "outputs": [
    {
     "name": "stdout",
     "output_type": "stream",
     "text": [
      "welcome to python\n"
     ]
    }
   ],
   "source": [
    "x = '    welcome to python    '\n",
    "x = ''.join([char for char in \" \".join(x.split())])\n",
    "print(x)"
   ]
  },
  {
   "cell_type": "code",
   "execution_count": 2,
   "metadata": {},
   "outputs": [
    {
     "name": "stdout",
     "output_type": "stream",
     "text": [
      "welcome to python\n"
     ]
    }
   ],
   "source": [
    "x = '    welcome to python   '\n",
    "p_result= result = ''\n",
    "l_space = True\n",
    "r_space = True\n",
    "for ch in x:\n",
    "    if l_space:\n",
    "        if not ch==' ':\n",
    "            l_space = False\n",
    "            p_result = ch\n",
    "    else:\n",
    "        p_result = p_result+ch\n",
    "for ch1 in p_result[::-1]:\n",
    "    if r_space:\n",
    "        if not ch1==' ':\n",
    "            r_space = False\n",
    "            result = ch1\n",
    "    else:\n",
    "        result = result+ch1        \n",
    "print(result[::-1])"
   ]
  },
  {
   "cell_type": "code",
   "execution_count": 18,
   "metadata": {},
   "outputs": [],
   "source": [
    "# good solution below example"
   ]
  },
  {
   "cell_type": "code",
   "execution_count": 14,
   "metadata": {},
   "outputs": [],
   "source": [
    "str1 = '    welcome to python   '\n",
    "start= 0\n",
    "end = 0 \n",
    "str2 = ''\n",
    "length = len(str1)\n",
    "ind = 0\n"
   ]
  },
  {
   "cell_type": "code",
   "execution_count": 15,
   "metadata": {},
   "outputs": [],
   "source": [
    "while(ind<length):\n",
    "    if(str1[ind] != ' '):\n",
    "        start = ind\n",
    "        break\n",
    "    ind = ind + 1"
   ]
  },
  {
   "cell_type": "code",
   "execution_count": 16,
   "metadata": {},
   "outputs": [],
   "source": [
    "ind = length-1\n",
    "while(ind>=0):\n",
    "    if(str1[ind] !=' '):\n",
    "        end = ind\n",
    "        break\n",
    "    ind = ind-1\n",
    "#print(end)"
   ]
  },
  {
   "cell_type": "code",
   "execution_count": 17,
   "metadata": {},
   "outputs": [
    {
     "name": "stdout",
     "output_type": "stream",
     "text": [
      "welcome to python\n"
     ]
    }
   ],
   "source": [
    "str2 = str1[start:end+1]\n",
    "print(str2)"
   ]
  },
  {
   "cell_type": "code",
   "execution_count": null,
   "metadata": {},
   "outputs": [],
   "source": []
  }
 ],
 "metadata": {
  "kernelspec": {
   "display_name": "Python 3",
   "language": "python",
   "name": "python3"
  },
  "language_info": {
   "codemirror_mode": {
    "name": "ipython",
    "version": 3
   },
   "file_extension": ".py",
   "mimetype": "text/x-python",
   "name": "python",
   "nbconvert_exporter": "python",
   "pygments_lexer": "ipython3",
   "version": "3.7.6"
  }
 },
 "nbformat": 4,
 "nbformat_minor": 4
}
