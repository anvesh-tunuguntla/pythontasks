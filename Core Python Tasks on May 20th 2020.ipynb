{
 "cells": [
  {
   "cell_type": "markdown",
   "metadata": {},
   "source": [
    "# Some Built in Functions"
   ]
  },
  {
   "cell_type": "markdown",
   "metadata": {},
   "source": [
    "### split() function"
   ]
  },
  {
   "cell_type": "code",
   "execution_count": 44,
   "metadata": {},
   "outputs": [
    {
     "name": "stdout",
     "output_type": "stream",
     "text": [
      "['Python', 'is', 'Nice']\n"
     ]
    }
   ],
   "source": [
    "# str.split(sep=None, maxsplit=-1) - string will be split into a list based on the specified delimiter\n",
    "\n",
    "s = 'Python is Nice'\n",
    "\n",
    "# simple string split example\n",
    "str_list = s.split(sep=' ')\n",
    "print(str_list)"
   ]
  },
  {
   "cell_type": "code",
   "execution_count": 51,
   "metadata": {},
   "outputs": [
    {
     "name": "stdout",
     "output_type": "stream",
     "text": [
      "['welcome', 'to', 'python#code']\n"
     ]
    }
   ],
   "source": [
    "# using maxsplit on a split function\n",
    "\n",
    "s1 = \"welcome#to#python#code\"\n",
    "\n",
    "# setting the maxsplit parameter to 1, will return a list with 2 elements!\n",
    "x = s1.split(\"#\", 2)\n",
    "\n",
    "print(x)"
   ]
  },
  {
   "cell_type": "markdown",
   "metadata": {},
   "source": [
    "### join() function"
   ]
  },
  {
   "cell_type": "code",
   "execution_count": 52,
   "metadata": {},
   "outputs": [
    {
     "name": "stdout",
     "output_type": "stream",
     "text": [
      "a,b,c\n"
     ]
    }
   ],
   "source": [
    "# str.join(iterable)\n",
    "# - creates a string from an iterable. It joins all the iterable elements with the string as delimiter and returns it\n",
    "\n",
    "joinstr = \",\"\n",
    "\n",
    "joined_str = joinstr.join(['a', 'b', 'c'])\n",
    "\n",
    "print(joined_str)"
   ]
  },
  {
   "cell_type": "code",
   "execution_count": 53,
   "metadata": {},
   "outputs": [
    {
     "name": "stdout",
     "output_type": "stream",
     "text": [
      "a,e,i,o,u\n"
     ]
    }
   ],
   "source": [
    "tuple_vowels = ('a', 'e', 'i', 'o', 'u')\n",
    "\n",
    "vowels_str = \",\".join(tuple_vowels)\n",
    "\n",
    "print(vowels_str)"
   ]
  },
  {
   "cell_type": "markdown",
   "metadata": {},
   "source": [
    "### strip() function"
   ]
  },
  {
   "cell_type": "code",
   "execution_count": 20,
   "metadata": {},
   "outputs": [
    {
     "name": "stdout",
     "output_type": "stream",
     "text": [
      "abc\n"
     ]
    }
   ],
   "source": [
    "# strip() returns a new string after removing any leading and trailing whitespaces including tabs (\\t).\n",
    "s1 = '  abc  '\n",
    "print(s1.strip())"
   ]
  },
  {
   "cell_type": "code",
   "execution_count": 22,
   "metadata": {},
   "outputs": [
    {
     "name": "stdout",
     "output_type": "stream",
     "text": [
      "python\n"
     ]
    }
   ],
   "source": [
    "s2 = '  python  '\n",
    "print(s2.strip())"
   ]
  },
  {
   "cell_type": "markdown",
   "metadata": {},
   "source": [
    "### center() function"
   ]
  },
  {
   "cell_type": "code",
   "execution_count": 27,
   "metadata": {},
   "outputs": [],
   "source": [
    "# string.center(length, character) \n",
    "# center Print the word with taking up the space with number of characters we mentioned, with word in the middle"
   ]
  },
  {
   "cell_type": "code",
   "execution_count": 28,
   "metadata": {},
   "outputs": [
    {
     "name": "stdout",
     "output_type": "stream",
     "text": [
      "            python            \n"
     ]
    }
   ],
   "source": [
    "str1 = \"python\"\n",
    "\n",
    "x = str1.center(30) # by default space is taker \n",
    "\n",
    "print(x)"
   ]
  },
  {
   "cell_type": "code",
   "execution_count": 29,
   "metadata": {},
   "outputs": [
    {
     "name": "stdout",
     "output_type": "stream",
     "text": [
      "OOOOOOOOOOOOpythonOOOOOOOOOOOO\n"
     ]
    }
   ],
   "source": [
    "str1 = \"python\"\n",
    "\n",
    "x = str1.center(30, \"O\")\n",
    "\n",
    "print(x)"
   ]
  },
  {
   "cell_type": "markdown",
   "metadata": {},
   "source": [
    "### count() function"
   ]
  },
  {
   "cell_type": "code",
   "execution_count": 32,
   "metadata": {},
   "outputs": [
    {
     "name": "stdout",
     "output_type": "stream",
     "text": [
      "2\n"
     ]
    }
   ],
   "source": [
    "# count() - prints number of time the value occured in a string\n",
    "\n",
    "str1 = \"Welcome to python. Hello python\"\n",
    "\n",
    "x = str1.count(\"python\")\n",
    "\n",
    "print(x)"
   ]
  },
  {
   "cell_type": "code",
   "execution_count": 36,
   "metadata": {},
   "outputs": [
    {
     "name": "stdout",
     "output_type": "stream",
     "text": [
      "1\n"
     ]
    }
   ],
   "source": [
    "# string.count(value, start, end) - start and end are postions\n",
    "str1 = \"Welcome to python. Hello python\"\n",
    "\n",
    "x = str1.count(\"python\",5,30)\n",
    "\n",
    "print(x)"
   ]
  },
  {
   "cell_type": "markdown",
   "metadata": {},
   "source": [
    "### islower() function"
   ]
  },
  {
   "cell_type": "code",
   "execution_count": 37,
   "metadata": {},
   "outputs": [
    {
     "name": "stdout",
     "output_type": "stream",
     "text": [
      "False\n",
      "True\n",
      "False\n"
     ]
    }
   ],
   "source": [
    "# islower() - Returns True if all characters in the string are lower case\n",
    "\n",
    "str1 = \"Hello world!\"\n",
    "str2 = \"hello 123\"\n",
    "str3 = \"mynameisAnvesh\"\n",
    "\n",
    "print(str1.islower())\n",
    "print(str2.islower())\n",
    "print(str3.islower())"
   ]
  },
  {
   "cell_type": "markdown",
   "metadata": {},
   "source": [
    "### isupper() function"
   ]
  },
  {
   "cell_type": "code",
   "execution_count": 38,
   "metadata": {},
   "outputs": [
    {
     "name": "stdout",
     "output_type": "stream",
     "text": [
      "True\n",
      "False\n",
      "False\n"
     ]
    }
   ],
   "source": [
    "# isupper() - Returns True if all characters in the string are upper case\n",
    "\n",
    "str1 = \"HELLO WORLD!\"\n",
    "str2 = \"hello 123\"\n",
    "str3 = \"mynameisAnvesh\"\n",
    "\n",
    "print(str1.isupper())\n",
    "print(str2.isupper())\n",
    "print(str3.isupper())"
   ]
  },
  {
   "cell_type": "markdown",
   "metadata": {},
   "source": [
    "### title() function"
   ]
  },
  {
   "cell_type": "code",
   "execution_count": 39,
   "metadata": {},
   "outputs": [
    {
     "name": "stdout",
     "output_type": "stream",
     "text": [
      "Welcome To Pyhton\n"
     ]
    }
   ],
   "source": [
    "# title() - prints first letter in each word upper case\n",
    "\n",
    "str1 = \"Welcome to pyhton\"\n",
    "\n",
    "x = str1.title()\n",
    "\n",
    "print(x)"
   ]
  },
  {
   "cell_type": "markdown",
   "metadata": {},
   "source": [
    "# Task 2 check if \"to\" is present in \"welcome to python\""
   ]
  },
  {
   "cell_type": "code",
   "execution_count": 40,
   "metadata": {},
   "outputs": [
    {
     "name": "stdout",
     "output_type": "stream",
     "text": [
      "8\n"
     ]
    }
   ],
   "source": [
    "# using find() we can check if to is present or not. if presents it prints postion of the \"to\". if not it prints -1\n",
    "\n",
    "str1 = \"Welcome to python\"\n",
    "\n",
    "x = str1.find(\"to\")\n",
    "\n",
    "print(x)"
   ]
  },
  {
   "cell_type": "code",
   "execution_count": 41,
   "metadata": {},
   "outputs": [
    {
     "name": "stdout",
     "output_type": "stream",
     "text": [
      "-1\n"
     ]
    }
   ],
   "source": [
    "# not exists\n",
    "str1 = \"Welcome to python\"\n",
    "\n",
    "x = str1.find(\"too\")\n",
    "\n",
    "print(x)"
   ]
  },
  {
   "cell_type": "code",
   "execution_count": null,
   "metadata": {},
   "outputs": [],
   "source": []
  }
 ],
 "metadata": {
  "kernelspec": {
   "display_name": "Python 3",
   "language": "python",
   "name": "python3"
  },
  "language_info": {
   "codemirror_mode": {
    "name": "ipython",
    "version": 3
   },
   "file_extension": ".py",
   "mimetype": "text/x-python",
   "name": "python",
   "nbconvert_exporter": "python",
   "pygments_lexer": "ipython3",
   "version": "3.7.6"
  }
 },
 "nbformat": 4,
 "nbformat_minor": 4
}
